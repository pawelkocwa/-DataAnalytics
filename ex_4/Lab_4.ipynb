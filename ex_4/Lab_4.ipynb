{
 "cells": [
  {
   "cell_type": "markdown",
   "metadata": {},
   "source": [
    "# Creating a simple Bayesian model\n",
    "Using the data from following table create a model predicting number of passenger deaths. Use poisson distribution in two variants\n",
    "\n",
    "The rate is constant for all years and not depending on anything.\n",
    "The intensity is constant, but rate is a product of intensity and miles flown.\n",
    "Select appropriate priors, perform prior predictive checks, fit the model and using posterior predictive distribution predict the death rates from the model."
   ]
  },
  {
   "cell_type": "code",
   "execution_count": 1,
   "metadata": {},
   "outputs": [],
   "source": [
    "# enviroment conda to start: DataAnalytics\n",
    "# command: conda activate DataAnalytics\n",
    "\n",
    "import sys\n",
    "import pystan\n",
    "sys.path.append(\"D:\\Pawel\\DA\\Lab4\")\n",
    "import stan_utility\n",
    "\n",
    "import arviz as az\n",
    "import numpy as np\n",
    "import scipy.stats as stats\n",
    "import pandas as pd\n",
    "\n",
    "import matplotlib.pyplot as plt\n",
    "import matplotlib as mpl"
   ]
  },
  {
   "cell_type": "code",
   "execution_count": 2,
   "metadata": {},
   "outputs": [
    {
     "name": "stderr",
     "output_type": "stream",
     "text": [
      "INFO:numexpr.utils:NumExpr defaulting to 8 threads.\n"
     ]
    },
    {
     "data": {
      "text/html": [
       "<div>\n",
       "<style scoped>\n",
       "    .dataframe tbody tr th:only-of-type {\n",
       "        vertical-align: middle;\n",
       "    }\n",
       "\n",
       "    .dataframe tbody tr th {\n",
       "        vertical-align: top;\n",
       "    }\n",
       "\n",
       "    .dataframe thead th {\n",
       "        text-align: right;\n",
       "    }\n",
       "</style>\n",
       "<table border=\"1\" class=\"dataframe\">\n",
       "  <thead>\n",
       "    <tr style=\"text-align: right;\">\n",
       "      <th></th>\n",
       "      <th>Fatal accidents</th>\n",
       "      <th>Passenger deaths</th>\n",
       "      <th>Death rate</th>\n",
       "      <th>Miles flown [100 mln miles]</th>\n",
       "    </tr>\n",
       "    <tr>\n",
       "      <th>Year</th>\n",
       "      <th></th>\n",
       "      <th></th>\n",
       "      <th></th>\n",
       "      <th></th>\n",
       "    </tr>\n",
       "  </thead>\n",
       "  <tbody>\n",
       "    <tr>\n",
       "      <th>1976</th>\n",
       "      <td>24</td>\n",
       "      <td>734</td>\n",
       "      <td>0.19</td>\n",
       "      <td>3863.0</td>\n",
       "    </tr>\n",
       "    <tr>\n",
       "      <th>1977</th>\n",
       "      <td>25</td>\n",
       "      <td>516</td>\n",
       "      <td>0.12</td>\n",
       "      <td>4300.0</td>\n",
       "    </tr>\n",
       "    <tr>\n",
       "      <th>1978</th>\n",
       "      <td>31</td>\n",
       "      <td>754</td>\n",
       "      <td>0.15</td>\n",
       "      <td>5027.0</td>\n",
       "    </tr>\n",
       "    <tr>\n",
       "      <th>1979</th>\n",
       "      <td>31</td>\n",
       "      <td>877</td>\n",
       "      <td>0.16</td>\n",
       "      <td>5481.0</td>\n",
       "    </tr>\n",
       "    <tr>\n",
       "      <th>1980</th>\n",
       "      <td>22</td>\n",
       "      <td>814</td>\n",
       "      <td>0.14</td>\n",
       "      <td>5814.0</td>\n",
       "    </tr>\n",
       "    <tr>\n",
       "      <th>1981</th>\n",
       "      <td>21</td>\n",
       "      <td>362</td>\n",
       "      <td>0.06</td>\n",
       "      <td>6033.0</td>\n",
       "    </tr>\n",
       "    <tr>\n",
       "      <th>1982</th>\n",
       "      <td>26</td>\n",
       "      <td>764</td>\n",
       "      <td>0.13</td>\n",
       "      <td>5877.0</td>\n",
       "    </tr>\n",
       "    <tr>\n",
       "      <th>1983</th>\n",
       "      <td>20</td>\n",
       "      <td>809</td>\n",
       "      <td>0.13</td>\n",
       "      <td>6223.0</td>\n",
       "    </tr>\n",
       "    <tr>\n",
       "      <th>1984</th>\n",
       "      <td>16</td>\n",
       "      <td>223</td>\n",
       "      <td>0.03</td>\n",
       "      <td>7433.0</td>\n",
       "    </tr>\n",
       "    <tr>\n",
       "      <th>1985</th>\n",
       "      <td>22</td>\n",
       "      <td>1066</td>\n",
       "      <td>0.15</td>\n",
       "      <td>7107.0</td>\n",
       "    </tr>\n",
       "  </tbody>\n",
       "</table>\n",
       "</div>"
      ],
      "text/plain": [
       "      Fatal accidents  Passenger deaths  Death rate  \\\n",
       "Year                                                  \n",
       "1976               24               734        0.19   \n",
       "1977               25               516        0.12   \n",
       "1978               31               754        0.15   \n",
       "1979               31               877        0.16   \n",
       "1980               22               814        0.14   \n",
       "1981               21               362        0.06   \n",
       "1982               26               764        0.13   \n",
       "1983               20               809        0.13   \n",
       "1984               16               223        0.03   \n",
       "1985               22              1066        0.15   \n",
       "\n",
       "      Miles flown [100 mln miles]  \n",
       "Year                               \n",
       "1976                       3863.0  \n",
       "1977                       4300.0  \n",
       "1978                       5027.0  \n",
       "1979                       5481.0  \n",
       "1980                       5814.0  \n",
       "1981                       6033.0  \n",
       "1982                       5877.0  \n",
       "1983                       6223.0  \n",
       "1984                       7433.0  \n",
       "1985                       7107.0  "
      ]
     },
     "execution_count": 2,
     "metadata": {},
     "output_type": "execute_result"
    }
   ],
   "source": [
    "dts=[24,734,25,516,31,754,31,877,22,814,21,362,26,764,20,809,16,223,22,1066]\n",
    "c1=dts[::2]\n",
    "c2=dts[1::2]\n",
    "\n",
    "Airline_data=pd.DataFrame({'Year':[1976,1977,1978,1979,1980,1981,1982,1983,1984,1985],\n",
    "'Fatal accidents':c1,  \n",
    "'Passenger deaths':c2,\n",
    "'Death rate':[0.19,0.12,0.15,0.16,0.14,0.06,0.13,0.13,0.03,0.15]}).set_index('Year')\n",
    "Airline_data['Miles flown [100 mln miles]']=np.round(Airline_data['Passenger deaths']/Airline_data['Death rate'])\n",
    "\n",
    "## generation of vector for plotting samples under histograms\n",
    "acc=[]\n",
    "dta_cnt=[]\n",
    "for k in Airline_data['Fatal accidents']:  \n",
    "    dta_cnt.append(-(1.+acc.count(k)))\n",
    "    acc.append(k)\n",
    "dta_cnt=np.array(dta_cnt)\n",
    "\n",
    "Airline_data"
   ]
  },
  {
   "cell_type": "markdown",
   "metadata": {},
   "source": [
    "# 1. The rate is constant for all years and not depending on anything.\n",
    "\n",
    "- I defined prior probability (normal distribution), where 96% values are between range 223 (1984) - 1066 (1985) ( we need to start from something)"
   ]
  },
  {
   "cell_type": "code",
   "execution_count": 3,
   "metadata": {},
   "outputs": [
    {
     "name": "stdout",
     "output_type": "stream",
     "text": [
      "functions {\n",
      "  vector tail_delta(vector y,       //unknowns\n",
      "                    vector theta,   //parameters\n",
      "                    real[] x_r,     // data(real)\n",
      "                    int[] x_i) {    //data(integer)\n",
      "    vector[2] deltas;\n",
      "\n",
      "    deltas[1] = normal_cdf(theta[1], y[1], y[2]) - 0.95; //5% that more than 1066 deaths\n",
      "    deltas[2] = normal_cdf(theta[2], y[1], y[2]) - 0.05; //5% that less than 223 deaths\n",
      "    return deltas;\n",
      "  }\n",
      "}\n",
      "\n",
      "data {\n",
      "  vector<lower=0>[2] y_guess; // Initial guess of Gaussian standard deviation\n",
      "  vector<lower=0>[2] theta;   // Target quantile\n",
      "}\n",
      "\n",
      "transformed data {\n",
      "  vector[2] y;\n",
      "  real x_r[0];\n",
      "  int x_i[0];\n",
      "\n",
      "  // Find gamma parameters that ensures 90% probabilty from 223 to 1066\n",
      "  y = algebra_solver(tail_delta, y_guess, theta, x_r, x_i);\n",
      "  print(\"mu  = \", y[1]);\n",
      "  print(\"sigma = \", y[2]);\n",
      "}\n",
      "\n",
      "generated quantities {\n",
      "  real mu = y[1];\n",
      "  real sigma = y[2];\n",
      "}\n",
      "Using cached StanModel\n"
     ]
    }
   ],
   "source": [
    "name_1 = \"prior_1.stan\"\n",
    "\n",
    "with open(name_1, 'r') as file:\n",
    "    print(file.read())\n",
    "air_tun = stan_utility.compile_model(name_1)"
   ]
  },
  {
   "cell_type": "code",
   "execution_count": 4,
   "metadata": {},
   "outputs": [
    {
     "data": {
      "text/html": [
       "<div>\n",
       "<style scoped>\n",
       "    .dataframe tbody tr th:only-of-type {\n",
       "        vertical-align: middle;\n",
       "    }\n",
       "\n",
       "    .dataframe tbody tr th {\n",
       "        vertical-align: top;\n",
       "    }\n",
       "\n",
       "    .dataframe thead th {\n",
       "        text-align: right;\n",
       "    }\n",
       "</style>\n",
       "<table border=\"1\" class=\"dataframe\">\n",
       "  <thead>\n",
       "    <tr style=\"text-align: right;\">\n",
       "      <th></th>\n",
       "      <th>Fatal accidents</th>\n",
       "      <th>Passenger deaths</th>\n",
       "      <th>Death rate</th>\n",
       "      <th>Miles flown [100 mln miles]</th>\n",
       "    </tr>\n",
       "    <tr>\n",
       "      <th>Year</th>\n",
       "      <th></th>\n",
       "      <th></th>\n",
       "      <th></th>\n",
       "      <th></th>\n",
       "    </tr>\n",
       "  </thead>\n",
       "  <tbody>\n",
       "    <tr>\n",
       "      <th>1976</th>\n",
       "      <td>24</td>\n",
       "      <td>734</td>\n",
       "      <td>0.19</td>\n",
       "      <td>3863.0</td>\n",
       "    </tr>\n",
       "    <tr>\n",
       "      <th>1977</th>\n",
       "      <td>25</td>\n",
       "      <td>516</td>\n",
       "      <td>0.12</td>\n",
       "      <td>4300.0</td>\n",
       "    </tr>\n",
       "    <tr>\n",
       "      <th>1978</th>\n",
       "      <td>31</td>\n",
       "      <td>754</td>\n",
       "      <td>0.15</td>\n",
       "      <td>5027.0</td>\n",
       "    </tr>\n",
       "    <tr>\n",
       "      <th>1979</th>\n",
       "      <td>31</td>\n",
       "      <td>877</td>\n",
       "      <td>0.16</td>\n",
       "      <td>5481.0</td>\n",
       "    </tr>\n",
       "    <tr>\n",
       "      <th>1980</th>\n",
       "      <td>22</td>\n",
       "      <td>814</td>\n",
       "      <td>0.14</td>\n",
       "      <td>5814.0</td>\n",
       "    </tr>\n",
       "  </tbody>\n",
       "</table>\n",
       "</div>"
      ],
      "text/plain": [
       "      Fatal accidents  Passenger deaths  Death rate  \\\n",
       "Year                                                  \n",
       "1976               24               734        0.19   \n",
       "1977               25               516        0.12   \n",
       "1978               31               754        0.15   \n",
       "1979               31               877        0.16   \n",
       "1980               22               814        0.14   \n",
       "\n",
       "      Miles flown [100 mln miles]  \n",
       "Year                               \n",
       "1976                       3863.0  \n",
       "1977                       4300.0  \n",
       "1978                       5027.0  \n",
       "1979                       5481.0  \n",
       "1980                       5814.0  "
      ]
     },
     "execution_count": 4,
     "metadata": {},
     "output_type": "execute_result"
    }
   ],
   "source": [
    "# show the data\n",
    "Airline_data.head()"
   ]
  },
  {
   "cell_type": "code",
   "execution_count": 5,
   "metadata": {},
   "outputs": [
    {
     "name": "stdout",
     "output_type": "stream",
     "text": [
      "mu: 644.0, Sigma: 256.0\n"
     ]
    }
   ],
   "source": [
    "# data=dict(y=np.array([670,200]),theta=np.array([1066,223]))\n",
    "\n",
    "# air_tuned = air_tun.sampling(data=data, seed=1050000, algorithm=\"Fixed_param\", iter=1, chains=1)\n",
    "air_tuned = air_tun.sampling(data=dict(y_guess=np.array([670,200]),theta=np.array([1066,223])),\n",
    "                          seed=1052020,\n",
    "                          algorithm=\"Fixed_param\",\n",
    "                          iter=1, \n",
    "                          warmup=0,\n",
    "                          chains=1)\n",
    "mu = np.round(air_tuned.extract()['mu'][0])\n",
    "sigma = np.round(air_tuned.extract()['sigma'][0])\n",
    "\n",
    "print(f\"mu: {mu}, Sigma: {sigma}\")"
   ]
  },
  {
   "cell_type": "code",
   "execution_count": 6,
   "metadata": {},
   "outputs": [
    {
     "data": {
      "image/png": "[encoded data removed]",
      "text/plain": [
       "<Figure size 504x288 with 1 Axes>"
      ]
     },
     "metadata": {
      "needs_background": "light"
     },
     "output_type": "display_data"
    }
   ],
   "source": [
    "fig, ax2 = plt.subplots(1, 1, figsize=(7, 4))\n",
    "x2=np.linspace(0,6*sigma,1000)\n",
    "x4=np.linspace(200,1100,1000)\n",
    "ax2.plot(x2,stats.norm.pdf(x2,loc=mu,scale=sigma),linewidth=2)\n",
    "ax2.fill_between(x4,stats.norm.pdf(x4,loc=mu,scale=sigma),0)\n",
    "ax2.set_yticks([])\n",
    "ax2.set_xticks([0,223,1066])\n",
    "ax2.set_title(r'$\\lambda$')\n",
    "plt.show()"
   ]
  },
  {
   "cell_type": "code",
   "execution_count": 7,
   "metadata": {},
   "outputs": [
    {
     "name": "stdout",
     "output_type": "stream",
     "text": [
      "data \n",
      "{\n",
      "//number of years\n",
      "  int M;\n",
      "}\n",
      "\n",
      "generated quantities \n",
      "{\n",
      "  real lambda=normal_rng(650,274);\n",
      "  \n",
      "  int y_sim[M];\n",
      "  \n",
      "  for (k in 1:M) \n",
      "  {\n",
      "    y_sim[k] = poisson_rng(lambda);\n",
      "  }\n",
      "}\n",
      "\n",
      "Using cached StanModel\n"
     ]
    }
   ],
   "source": [
    "# Prior predictive distribution\n",
    "\n",
    "name_2 = \"prior_2.stan\"\n",
    "\n",
    "with open(name_2, 'r') as file:\n",
    "    print(file.read())\n",
    "    \n",
    "model_pr_pre_d=stan_utility.compile_model(name_2)"
   ]
  },
  {
   "cell_type": "code",
   "execution_count": 8,
   "metadata": {},
   "outputs": [],
   "source": [
    "R=1000\n",
    "sim_uf=model_pr_pre_d.sampling(data={'M':1},\n",
    "                               algorithm=\"Fixed_param\",\n",
    "                               iter=R,\n",
    "                               warmup=0,\n",
    "                               chains=1, \n",
    "                               refresh=R,\n",
    "                               seed=29042020)"
   ]
  },
  {
   "cell_type": "code",
   "execution_count": 9,
   "metadata": {},
   "outputs": [
    {
     "name": "stderr",
     "output_type": "stream",
     "text": [
      "C:\\Users\\kflud\\anaconda3\\lib\\site-packages\\numpy\\lib\\histograms.py:839: RuntimeWarning: invalid value encountered in greater_equal\n",
      "  keep = (tmp_a >= first_edge)\n",
      "C:\\Users\\kflud\\anaconda3\\lib\\site-packages\\numpy\\lib\\histograms.py:840: RuntimeWarning: invalid value encountered in less_equal\n",
      "  keep &= (tmp_a <= last_edge)\n",
      "C:\\Users\\kflud\\anaconda3\\lib\\site-packages\\numpy\\lib\\histograms.py:839: RuntimeWarning: invalid value encountered in greater_equal\n",
      "  keep = (tmp_a >= first_edge)\n",
      "C:\\Users\\kflud\\anaconda3\\lib\\site-packages\\numpy\\lib\\histograms.py:840: RuntimeWarning: invalid value encountered in less_equal\n",
      "  keep &= (tmp_a <= last_edge)\n"
     ]
    },
    {
     "data": {
      "image/png": "[encoded data removed]",
      "text/plain": [
       "<Figure size 504x576 with 2 Axes>"
      ]
     },
     "metadata": {
      "needs_background": "light"
     },
     "output_type": "display_data"
    }
   ],
   "source": [
    "params=sim_uf.extract()\n",
    "theta=params['lambda']\n",
    "y_sim=params['y_sim']\n",
    "\n",
    "fig, axes = plt.subplots(2, 1,figsize=(7, 8))\n",
    "ax1=axes[0]\n",
    "ax1.hist(theta,bins=20,density=True)\n",
    "x=np.linspace(0,1500,2000)\n",
    "ax1.set_xticks([0,223,1066])\n",
    "ax1.set_yticks([])\n",
    "ax1.set_title(r'$\\lambda$')\n",
    "ax1.plot(x,stats.norm.pdf(x,mu,sigma),color='black',linestyle='--')\n",
    "arr_y_loc = stats.norm.pdf(300,mu,sigma)\n",
    "ax1.annotate('Normal('+str(np.int(mu))+','+str(np.int(sigma))+')',xy=(150,arr_y_loc),xytext=(80,0.5*arr_y_loc),arrowprops={'arrowstyle':'<-'})\n",
    "ax2=axes[1]\n",
    "ax2.hist(y_sim.flatten(), density=True,bins=20,zorder=1)\n",
    "ax2.scatter(c2,0.00003*dta_cnt,color='black',marker='.',zorder=2)\n",
    "ax2.set_xticks([0,223,1066])\n",
    "ax2.set_yticks([])\n",
    "\n",
    "ax2.set_title('No. of accidents')\n",
    "plt.show()\n",
    "\n",
    "# not accurate, but well made if we consider that there was lack of info"
   ]
  },
  {
   "cell_type": "code",
   "execution_count": 10,
   "metadata": {},
   "outputs": [
    {
     "name": "stdout",
     "output_type": "stream",
     "text": [
      "data \n",
      "{\n",
      "  //number of years analyzed\n",
      "  int M;\n",
      "  \n",
      "  //number of deaths\n",
      "  int Y[M];\n",
      "}\n",
      "parameters {\n",
      "  real<lower=0>lambda;\n",
      "}\n",
      "model {\n",
      "  lambda ~ normal(644,256);\n",
      "  for (k in 1:M) {\n",
      "    Y[k] ~ poisson(lambda);\n",
      "  }\n",
      "}\n",
      "generated quantities {\n",
      "  int y_sim[M];\n",
      "  for (k in 1:M) {\n",
      "    y_sim[k] = poisson_rng(lambda);\n",
      "  }\n",
      "}\n",
      "\n",
      "Using cached StanModel\n"
     ]
    }
   ],
   "source": [
    "# Posterior inference and posterior predictive checks\n",
    "name_3 = \"prior_3.stan\"\n",
    "\n",
    "with open(name_3, 'r') as file:\n",
    "    print(file.read())\n",
    "    \n",
    "model_3=stan_utility.compile_model(name_3)"
   ]
  },
  {
   "cell_type": "code",
   "execution_count": 11,
   "metadata": {},
   "outputs": [
    {
     "name": "stdout",
     "output_type": "stream",
     "text": [
      "Outputs:\n",
      "\t- Mean lamda: 691.7231305610321, \n",
      "\t- 89% confidence interval: [677.10476718 708.45238303]\n"
     ]
    },
    {
     "name": "stderr",
     "output_type": "stream",
     "text": [
      "C:\\Users\\kflud\\anaconda3\\lib\\site-packages\\arviz\\stats\\stats.py:338: UserWarning: hpd will be deprecated Please replace hdi\n",
      "  warnings.warn((\"hpd will be deprecated \" \"Please replace hdi\"),)\n"
     ]
    }
   ],
   "source": [
    "data = dict(M = len(Airline_data),\n",
    "            Y = Airline_data['Passenger deaths'])\n",
    "model_3_fit = model_3.sampling(data=data, seed=8052020)\n",
    "\n",
    "params=model_3_fit.extract()\n",
    "lam=params['lambda']\n",
    "y_sim=params['y_sim']\n",
    "\n",
    "\n",
    "# calculate mean\n",
    "mean_lam = np.mean(lam)\n",
    "# Calculate highest posterior density (HPD) of array for given credible_interval.\n",
    "cinf_lam = az.hpd(lam, 0.89)\n",
    "\n",
    "hpd_width=cinf_lam[1]-cinf_lam[0]\n",
    "\n",
    "print(f\"Outputs:\\n\\t- Mean lamda: {mean_lam}, \\n\\t- 89% confidence interval: {(cinf_lam.__str__())}\")"
   ]
  },
  {
   "cell_type": "code",
   "execution_count": 12,
   "metadata": {},
   "outputs": [
    {
     "data": {
      "image/png": "[encoded data removed]",
      "text/plain": [
       "<Figure size 1008x576 with 2 Axes>"
      ]
     },
     "metadata": {
      "needs_background": "light"
     },
     "output_type": "display_data"
    }
   ],
   "source": [
    "fig, ax1 = plt.subplots(1, 1,figsize=(14, 8))\n",
    "\n",
    "ax1.hist(lam,bins=20,density=True)\n",
    "x=np.linspace(0,2500,10000)\n",
    "#ax1.plot(x,2*stats.t.pdf(x,5,0,10),color='black',linestyle='--')\n",
    "\n",
    "ax1.plot(x,stats.norm.pdf(x,mu,sigma),color='black',linestyle='--')\n",
    "arr_y_loc = stats.norm.pdf(150,mu,sigma)\n",
    "ax1.annotate('Prior',xy=(50,arr_y_loc),xytext=(100,40*arr_y_loc),arrowprops={'arrowstyle':'->'})\n",
    "ax1.set_xticks([0,223,1066])\n",
    "\n",
    "ax1.set_yticks([])\n",
    "ax1.set_title(r'$\\lambda$')\n",
    "\n",
    "ax_sm=plt.axes([0.5,0.6,0.35,0.2])\n",
    "x_sm=np.linspace(cinf_lam[0]-hpd_width,cinf_lam[1]+hpd_width,200)\n",
    "ax_sm.hist(lam,bins=20,density=True)\n",
    "ax_sm.plot(x_sm,stats.norm.pdf(x_sm,mu,sigma),color='black',linestyle='--')\n",
    "ax_sm.annotate(s='', xy=(cinf_lam[0]-.2,0.2), xytext=(cinf_lam[1]+.2,0.2), arrowprops=dict(arrowstyle='<->'))\n",
    "ax_sm.plot([cinf_lam[0],cinf_lam[0]],[0,0.3],color='black',linestyle='-',linewidth=0.5)\n",
    "ax_sm.plot([cinf_lam[1],cinf_lam[1]],[0,0.3],color='black',linestyle='-',linewidth=0.5)\n",
    "\n",
    "ax_sm.set_xticks(np.round([cinf_lam[0],cinf_lam[1]],2))\n",
    "ax_sm.set_yticks([])\n",
    "ax_sm.set_title(r'$\\lambda$ HPD')\n",
    "\n",
    "plt.show()"
   ]
  },
  {
   "cell_type": "code",
   "execution_count": 13,
   "metadata": {},
   "outputs": [
    {
     "name": "stdout",
     "output_type": "stream",
     "text": [
      "Median of predicted accidents = 691.0\n",
      "Confidence interval = [ 637.0 741.0 ]\n"
     ]
    },
    {
     "name": "stderr",
     "output_type": "stream",
     "text": [
      "C:\\Users\\kflud\\anaconda3\\lib\\site-packages\\arviz\\stats\\stats.py:338: UserWarning: hpd will be deprecated Please replace hdi\n",
      "  warnings.warn((\"hpd will be deprecated \" \"Please replace hdi\"),)\n"
     ]
    }
   ],
   "source": [
    "# Using created model for prediction\n",
    "\n",
    "median_y_sim = np.median(y_sim.flatten())\n",
    "cinf_y_sim = az.hpd(y_sim.flatten(),0.89)\n",
    "\n",
    "print('Median of predicted accidents =',median_y_sim)\n",
    "print('Confidence interval = [', *cinf_y_sim,']')"
   ]
  },
  {
   "cell_type": "code",
   "execution_count": null,
   "metadata": {},
   "outputs": [],
   "source": []
  },
  {
   "cell_type": "code",
   "execution_count": null,
   "metadata": {},
   "outputs": [],
   "source": []
  }
 ],
 "metadata": {
  "kernelspec": {
   "display_name": "Python 3",
   "language": "python",
   "name": "python3"
  },
  "language_info": {
   "codemirror_mode": {
    "name": "ipython",
    "version": 3
   },
   "file_extension": ".py",
   "mimetype": "text/x-python",
   "name": "python",
   "nbconvert_exporter": "python",
   "pygments_lexer": "ipython3",
   "version": "3.7.6"
  }
 },
 "nbformat": 4,
 "nbformat_minor": 4
}
