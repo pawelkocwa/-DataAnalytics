{
 "cells": [
  {
   "cell_type": "code",
   "execution_count": 64,
   "metadata": {},
   "outputs": [],
   "source": [
    "# enviroment conda to start: DataAnalytics\n",
    "# command: conda activate DataAnalytics\n",
    "\n",
    "import pandas as pd\n",
    "import seaborn as sns\n",
    "import numpy as np\n",
    "import matplotlib.pyplot as plt\n",
    "\n",
    "\n",
    "import pystan\n",
    "import stan_utility\n",
    "\n",
    "import scipy.stats as stats\n",
    "import matplotlib as mpl\n",
    "\n",
    "from scipy.stats import invgamma"
   ]
  },
  {
   "cell_type": "markdown",
   "metadata": {},
   "source": [
    "# Negative binomial distribution\n",
    "- Negative binomial distribution. Negative binomial distribution can be used in order to relax the constraints of equal mean and variance of Poissson distribution. Using both concentration and dispersion parametrization sample from negative binomial with fixed mean and see how it behaves in comparison to the Poisson with the same mean."
   ]
  },
  {
   "cell_type": "code",
   "execution_count": 66,
   "metadata": {},
   "outputs": [
    {
     "name": "stdout",
     "output_type": "stream",
     "text": [
      "data {\n",
      "    real<lower=0> alpha;\n",
      "    real<lower=0> beta;\n",
      "}\n",
      "generated quantities {\n",
      "    int<lower=0> y;\n",
      "    y = neg_binomial_rng(alpha,beta);\n",
      "}\n",
      "\n",
      "Using cached StanModel\n"
     ]
    }
   ],
   "source": [
    "# name for negative binomial distribution\n",
    "neq_bin_name = 'neg_binomial.stan'\n",
    "\n",
    "with open(neq_bin_name, 'r') as file:\n",
    "    print(file.read())\n",
    "\n",
    "# compile the model\n",
    "neq_bin_model=stan_utility.compile_model(neq_bin_name)"
   ]
  },
  {
   "cell_type": "code",
   "execution_count": 67,
   "metadata": {},
   "outputs": [
    {
     "name": "stdout",
     "output_type": "stream",
     "text": [
      "Mean value: 9.94175\n"
     ]
    },
    {
     "data": {
      "image/png": "[encoded data removed]",
      "text/plain": [
       "<Figure size 432x288 with 1 Axes>"
      ]
     },
     "metadata": {
      "needs_background": "light"
     },
     "output_type": "display_data"
    }
   ],
   "source": [
    "alpha = 10\n",
    "beta = 1\n",
    "\n",
    "neq_bin_sample = neq_bin_model.sampling(data=dict(alpha=alpha,\n",
    "                                                  beta=beta), \n",
    "                                        seed=1052020, \n",
    "                                        algorithm=\"Fixed_param\", \n",
    "                                        iter=1000, \n",
    "                                        warmup=0)\n",
    "\n",
    "neq_bin_params=neq_bin_sample.extract()\n",
    "plt.hist(neq_bin_params['y'], bins=128)\n",
    "\n",
    "print(\"Mean value: \"+ str(np.mean(neq_bin_params['y'])))\n",
    "\n",
    "# we see only integer are ploted, good"
   ]
  },
  {
   "cell_type": "code",
   "execution_count": 73,
   "metadata": {},
   "outputs": [
    {
     "name": "stdout",
     "output_type": "stream",
     "text": [
      "data {\n",
      "    real<lower=0> alpha;\n",
      "    real<lower=0> beta;\n",
      "}\n",
      "generated quantities {\n",
      "    int<lower=0> y;\n",
      "    y = neg_binomial_rng(alpha,beta);\n",
      "}\n",
      "\n",
      "Using cached StanModel\n"
     ]
    }
   ],
   "source": [
    "# now poisson to compare\n",
    "poisson_name = \"poisson.stan\"\n",
    "\n",
    "with open(neq_bin_name, 'r') as file:\n",
    "    print(file.read())\n",
    "    \n",
    "# compile it \n",
    "poisson_model=stan_utility.compile_model(poisson_name)"
   ]
  },
  {
   "cell_type": "code",
   "execution_count": 75,
   "metadata": {},
   "outputs": [
    {
     "name": "stdout",
     "output_type": "stream",
     "text": [
      "Mean value: 10.00375\n"
     ]
    },
    {
     "data": {
      "image/png": "[encoded data removed]",
      "text/plain": [
       "<Figure size 432x288 with 1 Axes>"
      ]
     },
     "metadata": {
      "needs_background": "light"
     },
     "output_type": "display_data"
    }
   ],
   "source": [
    "poisson_sample = poisson_model.sampling(data=dict(lam=10), \n",
    "                                        seed=1052020, \n",
    "                                        algorithm=\"Fixed_param\", \n",
    "                                        iter=1000, \n",
    "                                        warmup=0)\n",
    "\n",
    "params_poisson=poisson_sample.extract()\n",
    "plt.hist(params_poisson['y'], bins=128)\n",
    "\n",
    "print(\"Mean value: \"+str(np.mean(params_poisson['y'])))"
   ]
  },
  {
   "cell_type": "code",
   "execution_count": 38,
   "metadata": {},
   "outputs": [
    {
     "name": "stdout",
     "output_type": "stream",
     "text": [
      "data {\n",
      "    real<lower=0> nu;\n",
      "    real mu;\n",
      "    real<lower=0> sigma;\n",
      "}\n",
      "\n",
      "parameters {\n",
      "    real y;\n",
      "}\n",
      "\n",
      "model {\n",
      "    y ~ student_t(nu, mu, sigma);\n",
      "}\n",
      "\n"
     ]
    }
   ],
   "source": [
    "student_name = \"student1.stan\"\n",
    "\n",
    "with open(student_name, 'r') as file:\n",
    "    print(file.read())"
   ]
  },
  {
   "cell_type": "code",
   "execution_count": 43,
   "metadata": {},
   "outputs": [
    {
     "name": "stdout",
     "output_type": "stream",
     "text": [
      "Using cached StanModel\n"
     ]
    }
   ],
   "source": [
    "student1_model=stan_utility.compile_model(student_name)"
   ]
  },
  {
   "cell_type": "code",
   "execution_count": 54,
   "metadata": {},
   "outputs": [
    {
     "name": "stderr",
     "output_type": "stream",
     "text": [
      "WARNING:pystan:Rhat above 1.1 or below 0.9 indicates that the chains very likely have not mixed\n",
      "WARNING:pystan:Rhat above 1.1 or below 0.9 indicates that the chains very likely have not mixed\n",
      "WARNING:pystan:Rhat above 1.1 or below 0.9 indicates that the chains very likely have not mixed\n"
     ]
    },
    {
     "data": {
      "text/plain": [
       "Text(0.5, 1.0, 'Iterations = 10000,mean=-0.4744225105524785, variance=7.243010882584273')"
      ]
     },
     "execution_count": 54,
     "metadata": {},
     "output_type": "execute_result"
    },
    {
     "data": {
      "image/png": "[encoded data removed]",
      "text/plain": [
       "<Figure size 432x288 with 1 Axes>"
      ]
     },
     "metadata": {
      "needs_background": "light"
     },
     "output_type": "display_data"
    },
    {
     "data": {
      "image/png": "[encoded data removed]",
      "text/plain": [
       "<Figure size 432x288 with 1 Axes>"
      ]
     },
     "metadata": {
      "needs_background": "light"
     },
     "output_type": "display_data"
    },
    {
     "data": {
      "image/png": "[encoded data removed]",
      "text/plain": [
       "<Figure size 432x288 with 1 Axes>"
      ]
     },
     "metadata": {
      "needs_background": "light"
     },
     "output_type": "display_data"
    }
   ],
   "source": [
    "# interaction 100\n",
    "\n",
    "iteration = 100\n",
    "data=dict(nu=2,\n",
    "          mu=0,\n",
    "          sigma=1)\n",
    "\n",
    "\n",
    "student1_sample=student1_model.sampling(data=data,\n",
    "                 iter=100,\n",
    "                 chains=1,\n",
    "                 seed=1052020)\n",
    "\n",
    "student1_params=student1_sample.extract()\n",
    "plt.figure();\n",
    "plt.hist(student1_params['y'], bins=128)\n",
    "mean_y = np.mean(student1_params['y'])\n",
    "var_y = np.var(student1_params['y'])\n",
    "\n",
    "plt.title(\"Iterations = 100,mean=\"+ str(mean_y) +\", variance=\"+str(var_y))\n",
    "\n",
    "\n",
    "\n",
    "\n",
    "# interaction 1000\n",
    "\n",
    "iteration = 1000\n",
    "data=dict(nu=2,\n",
    "          mu=0,\n",
    "          sigma=1)\n",
    "\n",
    "\n",
    "student1_sample=student1_model.sampling(data=data,\n",
    "                 iter=100,\n",
    "                 chains=1,\n",
    "                 seed=1052020)\n",
    "\n",
    "student1_params=student1_sample.extract()\n",
    "plt.figure();\n",
    "plt.hist(student1_params['y'], bins=128)\n",
    "mean_y = np.mean(student1_params['y'])\n",
    "var_y = np.var(student1_params['y'])\n",
    "\n",
    "plt.title(\"Iterations = 1000,mean=\"+ str(mean_y) +\", variance=\"+str(var_y))\n",
    "\n",
    "\n",
    "\n",
    "\n",
    "# interaction 10000\n",
    "\n",
    "iteration = 10000\n",
    "data=dict(nu=2,\n",
    "          mu=0,\n",
    "          sigma=1)\n",
    "\n",
    "\n",
    "student1_sample=student1_model.sampling(data=data,\n",
    "                 iter=100,\n",
    "                 chains=1,\n",
    "                 seed=1052020)\n",
    "\n",
    "student1_params=student1_sample.extract()\n",
    "plt.figure();\n",
    "plt.hist(student1_params['y'], bins=128)\n",
    "mean_y = np.mean(student1_params['y'])\n",
    "var_y = np.var(student1_params['y'])\n",
    "\n",
    "plt.title(\"Iterations = 10000,mean=\"+ str(mean_y) +\", variance=\"+str(var_y))"
   ]
  },
  {
   "cell_type": "code",
   "execution_count": 63,
   "metadata": {},
   "outputs": [
    {
     "data": {
      "image/png": "[encoded data removed]",
      "text/plain": [
       "<Figure size 432x288 with 1 Axes>"
      ]
     },
     "metadata": {
      "needs_background": "light"
     },
     "output_type": "display_data"
    }
   ],
   "source": [
    "data=dict(nu=1, mu=0, sigma=1)\n",
    "ans = plt.hist((student1_model.sampling(data=data, iter=1000, chains=1, seed=1052020)).extract()['y'], bins=128)\n",
    "# i have hide results in ans, otherwise it would print all in as print"
   ]
  },
  {
   "cell_type": "code",
   "execution_count": null,
   "metadata": {},
   "outputs": [],
   "source": []
  }
 ],
 "metadata": {
  "kernelspec": {
   "display_name": "Python 3",
   "language": "python",
   "name": "python3"
  },
  "language_info": {
   "codemirror_mode": {
    "name": "ipython",
    "version": 3
   },
   "file_extension": ".py",
   "mimetype": "text/x-python",
   "name": "python",
   "nbconvert_exporter": "python",
   "pygments_lexer": "ipython3",
   "version": "3.7.7"
  }
 },
 "nbformat": 4,
 "nbformat_minor": 4
}
